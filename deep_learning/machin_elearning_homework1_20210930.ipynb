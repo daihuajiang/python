{
 "cells": [
  {
   "cell_type": "code",
   "execution_count": 1,
   "id": "dc8e14ba",
   "metadata": {},
   "outputs": [],
   "source": [
    "import numpy as np\n",
    "import matplotlib.pyplot as plt"
   ]
  },
  {
   "cell_type": "markdown",
   "id": "b3707e6f",
   "metadata": {},
   "source": [
    "**<font size=5>Layers Class</font>**"
   ]
  },
  {
   "cell_type": "code",
   "execution_count": 2,
   "id": "df09a91a",
   "metadata": {},
   "outputs": [],
   "source": [
    "#輸入資料的tensor及產生對應的權重零矩陣\n",
    "class Parameter():\n",
    "    def __init__(self, tensor):\n",
    "        self.tensor = tensor\n",
    "        self.gradient = np.zeros_like(self.tensor)"
   ]
  },
  {
   "cell_type": "code",
   "execution_count": 3,
   "id": "06b082e3",
   "metadata": {},
   "outputs": [],
   "source": [
    "#training過程:計算forward, backward計算權重, 更新權重\n",
    "#定義forward用於傳遞輸入的參數並於output計算完之後更新權重\n",
    "class Layer:\n",
    "    def __init__(self):\n",
    "        self.parameters = []\n",
    "\n",
    "    #經過forward傳遞輸入\n",
    "    def forward(self, X):\n",
    "        return X, lambda D: D\n",
    "\n",
    "    #儲存參數\n",
    "    def build_param(self, tensor):\n",
    "        param = Parameter(tensor)\n",
    "        self.parameters.append(param)\n",
    "        return param\n",
    " \n",
    "    #更新權重\n",
    "    def update(self, optimizer):\n",
    "        for param in self.parameters: \n",
    "            optimizer.update(param)"
   ]
  },
  {
   "cell_type": "code",
   "execution_count": 4,
   "id": "06c00850",
   "metadata": {},
   "outputs": [],
   "source": [
    "#將output計算結果回傳\n",
    "class Linear(Layer):\n",
    "      def __init__(self, inputs, outputs):\n",
    "        super().__init__()\n",
    "        self.weights = self.build_param(np.random.randn(inputs, outputs) * np.sqrt(1 / inputs))\n",
    "        self.bias = self.build_param(np.zeros(outputs))\n",
    "  \n",
    "      def forward(self, X):\n",
    "        def backward(D):\n",
    "            self.weights.gradient += X.T @ D\n",
    "            self.bias.gradient += D.sum(axis=0)\n",
    "            return D @ self.weights.tensor.T \n",
    "        return X @ self.weights.tensor + self.bias.tensor, backward"
   ]
  },
  {
   "cell_type": "code",
   "execution_count": 5,
   "id": "29e4c17f",
   "metadata": {},
   "outputs": [],
   "source": [
    "#當有很多層，將連續的輸出儲存於一個list，該list以相反順序使用以獲得第一層輸入的權重\n",
    "class Sequential(Layer):\n",
    "      def __init__(self, *layers):\n",
    "        super().__init__()\n",
    "        self.layers = layers\n",
    "        for layer in layers:\n",
    "            self.parameters.extend(layer.parameters)\n",
    "    \n",
    "      def forward(self, X):\n",
    "        backprops = []\n",
    "        Y = X\n",
    "        for layer in self.layers:\n",
    "            Y, backprop = layer.forward(Y)\n",
    "            backprops.append(backprop)\n",
    "        def backward(D):\n",
    "            for backprop in reversed(backprops):\n",
    "                D = backprop(D)\n",
    "            return D\n",
    "        return Y, backward"
   ]
  },
  {
   "cell_type": "markdown",
   "id": "91178549",
   "metadata": {},
   "source": [
    "**<font size=5>Activations</font>**"
   ]
  },
  {
   "cell_type": "code",
   "execution_count": 6,
   "id": "93d68174",
   "metadata": {},
   "outputs": [],
   "source": [
    "#定義激活函數relu\n",
    "class ReLu(Layer):\n",
    "    def forward(self, X):\n",
    "        mask = X > 0\n",
    "        return X * mask, lambda D: D * mask"
   ]
  },
  {
   "cell_type": "code",
   "execution_count": 7,
   "id": "46ad4380",
   "metadata": {},
   "outputs": [],
   "source": [
    "#定義激活函數sigmoid\n",
    "class Sigmoid(Layer):\n",
    "    def forward(self, X):\n",
    "        S = 1 / (1 + np.exp(-X))\n",
    "        def backward(D):\n",
    "            return D * S * (1 - S)\n",
    "        return S, backward"
   ]
  },
  {
   "cell_type": "markdown",
   "id": "dfc29239",
   "metadata": {},
   "source": [
    "**<font size=5>Loss functions</font>**"
   ]
  },
  {
   "cell_type": "code",
   "execution_count": 8,
   "id": "01e7e470",
   "metadata": {},
   "outputs": [],
   "source": [
    "#定義loss function\"mse\"\n",
    "def mse_loss(Y_, Y):\n",
    "    diff = Y_ - Y.reshape(Y_.shape)\n",
    "    return np.square(diff).mean(), 2 * diff / len(diff)"
   ]
  },
  {
   "cell_type": "markdown",
   "id": "22ef5a8b",
   "metadata": {},
   "source": [
    "**<font size=5>Optimizers</font>**"
   ]
  },
  {
   "cell_type": "code",
   "execution_count": 9,
   "id": "ce1c6a82",
   "metadata": {},
   "outputs": [],
   "source": [
    "#定義優化器sgd\n",
    "class SGDOptimizer():\n",
    "    def __init__(self, lr=0.1):\n",
    "        self.lr = lr\n",
    "\n",
    "    def update(self, param):\n",
    "        param.tensor -= self.lr * param.gradient\n",
    "        param.gradient.fill(0)"
   ]
  },
  {
   "cell_type": "markdown",
   "id": "a8c52868",
   "metadata": {},
   "source": [
    "**<font size=5>Training Loop</font>**"
   ]
  },
  {
   "cell_type": "code",
   "execution_count": 10,
   "id": "96285727",
   "metadata": {},
   "outputs": [],
   "source": [
    "#定義training loop    \n",
    "class Learner():\n",
    "    def __init__(self, model, loss, optimizer):\n",
    "        self.model = model\n",
    "        self.loss = loss\n",
    "        self.optimizer = optimizer\n",
    "    \n",
    "    #進行預測\n",
    "    def predict(self, X, Y):\n",
    "        Y_, backward = self.model.forward(X)\n",
    "        result = np.zeros_like(Y_)\n",
    "        for i in range(Y_.shape[0]):\n",
    "            result[i, np.argmax(Y_[i])] = 1\n",
    "        result = Y_\n",
    "        return result\n",
    "\n",
    "    # 這裡計算準確率    \n",
    "    def accuracy(self, X, Y):\n",
    "        pre = self.predict(X, Y)\n",
    "        #result = np.where(np.argmax(Y, axis=0)==np.argmax(pre, axis=0), 1, 0)\n",
    "        result = np.where(np.argmax(pre, axis=0) >= 0.5, 1, 0)\n",
    "        #result = np.where(abs(Y - pre) <0.1 , 1, 0)\n",
    "        acc = np.mean(result)\n",
    "        return acc\n",
    "    \n",
    "    def fit_batch(self, X, Y):\n",
    "        Y_, backward = self.model.forward(X)\n",
    "        L, D = self.loss(Y_, Y)\n",
    "        backward(D)\n",
    "        self.model.update(self.optimizer)\n",
    "        return L\n",
    "    \n",
    "    def fit(self, X, Y, epochs, batch_sizes):\n",
    "        losses = []\n",
    "        acc = []\n",
    "        fitparam = {}\n",
    "        for epoch in range(epochs):\n",
    "            p = np.random.permutation(len(X))\n",
    "            L = 0\n",
    "            for i in range(0, len(X), batch_sizes):\n",
    "                X_batch = X[p[i:i + batch_sizes]]\n",
    "                Y_batch = Y[p[i:i + batch_sizes]]\n",
    "                L += self.fit_batch(X_batch, Y_batch)\n",
    "            losses.append(L)\n",
    "            accu = self.accuracy(X, Y)\n",
    "            acc.append(accu)\n",
    "            if epoch == epochs - 2:\n",
    "                global is_last_epoch\n",
    "                is_last_epoch = 1\n",
    "            print(\"epoch:%d, Accuracy: %f, Loss: %f\"%(epoch, accu, L))\n",
    "        fitparam['loss'] = losses\n",
    "        fitparam['accuracy'] = acc\n",
    "        return fitparam"
   ]
  },
  {
   "cell_type": "markdown",
   "id": "3e9842ac",
   "metadata": {},
   "source": [
    "**<font size=5>產生train及test資料</font>**"
   ]
  },
  {
   "cell_type": "code",
   "execution_count": 11,
   "id": "6301f59c",
   "metadata": {},
   "outputs": [],
   "source": [
    "#資料為xor真值表\n",
    "X = X = np.array([[0, 0], [0, 1], [1, 0], [1, 1]])\n",
    "Y = np.array([[0], [1], [1], [0]])"
   ]
  },
  {
   "cell_type": "markdown",
   "id": "bbe6b0e0",
   "metadata": {},
   "source": [
    "**<font size=5>Training Data</font>**"
   ]
  },
  {
   "cell_type": "code",
   "execution_count": 12,
   "id": "4e0faae3",
   "metadata": {},
   "outputs": [],
   "source": [
    "epochs = 100 #訓練回數\n",
    "batch_size = 4 #batch_size\n",
    "learning_rate = 0.01 #學習率\n",
    "#hidden_neurons = 50 #隱藏層神經元數量"
   ]
  },
  {
   "cell_type": "code",
   "execution_count": 13,
   "id": "3122a265",
   "metadata": {},
   "outputs": [
    {
     "name": "stdout",
     "output_type": "stream",
     "text": [
      "epoch:0, Accuracy: 0.000000, Loss: 0.310640\n",
      "epoch:1, Accuracy: 0.000000, Loss: 0.307461\n",
      "epoch:2, Accuracy: 0.000000, Loss: 0.304349\n",
      "epoch:3, Accuracy: 0.000000, Loss: 0.301313\n",
      "epoch:4, Accuracy: 0.000000, Loss: 0.298360\n",
      "epoch:5, Accuracy: 0.000000, Loss: 0.295496\n",
      "epoch:6, Accuracy: 0.000000, Loss: 0.292727\n",
      "epoch:7, Accuracy: 0.000000, Loss: 0.290058\n",
      "epoch:8, Accuracy: 0.000000, Loss: 0.287493\n",
      "epoch:9, Accuracy: 0.000000, Loss: 0.285036\n",
      "epoch:10, Accuracy: 0.000000, Loss: 0.282689\n",
      "epoch:11, Accuracy: 0.000000, Loss: 0.280452\n",
      "epoch:12, Accuracy: 0.000000, Loss: 0.278328\n",
      "epoch:13, Accuracy: 0.000000, Loss: 0.276315\n",
      "epoch:14, Accuracy: 0.000000, Loss: 0.274413\n",
      "epoch:15, Accuracy: 0.000000, Loss: 0.272619\n",
      "epoch:16, Accuracy: 0.000000, Loss: 0.270932\n",
      "epoch:17, Accuracy: 0.000000, Loss: 0.269349\n",
      "epoch:18, Accuracy: 0.000000, Loss: 0.267867\n",
      "epoch:19, Accuracy: 0.000000, Loss: 0.266482\n",
      "epoch:20, Accuracy: 0.000000, Loss: 0.265190\n",
      "epoch:21, Accuracy: 0.000000, Loss: 0.263987\n",
      "epoch:22, Accuracy: 0.000000, Loss: 0.262868\n",
      "epoch:23, Accuracy: 0.000000, Loss: 0.261831\n",
      "epoch:24, Accuracy: 0.000000, Loss: 0.260869\n",
      "epoch:25, Accuracy: 0.000000, Loss: 0.259979\n",
      "epoch:26, Accuracy: 0.000000, Loss: 0.259157\n",
      "epoch:27, Accuracy: 0.000000, Loss: 0.258398\n",
      "epoch:28, Accuracy: 0.000000, Loss: 0.257698\n",
      "epoch:29, Accuracy: 0.000000, Loss: 0.257053\n",
      "epoch:30, Accuracy: 0.000000, Loss: 0.256460\n",
      "epoch:31, Accuracy: 0.000000, Loss: 0.255915\n",
      "epoch:32, Accuracy: 0.000000, Loss: 0.255414\n",
      "epoch:33, Accuracy: 0.000000, Loss: 0.254954\n",
      "epoch:34, Accuracy: 0.000000, Loss: 0.254532\n",
      "epoch:35, Accuracy: 0.000000, Loss: 0.254146\n",
      "epoch:36, Accuracy: 0.000000, Loss: 0.253792\n",
      "epoch:37, Accuracy: 0.000000, Loss: 0.253467\n",
      "epoch:38, Accuracy: 0.000000, Loss: 0.253170\n",
      "epoch:39, Accuracy: 0.000000, Loss: 0.252899\n",
      "epoch:40, Accuracy: 0.000000, Loss: 0.252651\n",
      "epoch:41, Accuracy: 0.000000, Loss: 0.252424\n",
      "epoch:42, Accuracy: 0.000000, Loss: 0.252216\n",
      "epoch:43, Accuracy: 0.000000, Loss: 0.252027\n",
      "epoch:44, Accuracy: 0.000000, Loss: 0.251854\n",
      "epoch:45, Accuracy: 0.000000, Loss: 0.251696\n",
      "epoch:46, Accuracy: 0.000000, Loss: 0.251552\n",
      "epoch:47, Accuracy: 0.000000, Loss: 0.251420\n",
      "epoch:48, Accuracy: 0.000000, Loss: 0.251300\n",
      "epoch:49, Accuracy: 0.000000, Loss: 0.251191\n",
      "epoch:50, Accuracy: 0.000000, Loss: 0.251091\n",
      "epoch:51, Accuracy: 0.000000, Loss: 0.251000\n",
      "epoch:52, Accuracy: 0.000000, Loss: 0.250917\n",
      "epoch:53, Accuracy: 0.000000, Loss: 0.250841\n",
      "epoch:54, Accuracy: 0.000000, Loss: 0.250772\n",
      "epoch:55, Accuracy: 0.000000, Loss: 0.250709\n",
      "epoch:56, Accuracy: 0.000000, Loss: 0.250652\n",
      "epoch:57, Accuracy: 0.000000, Loss: 0.250600\n",
      "epoch:58, Accuracy: 0.000000, Loss: 0.250552\n",
      "epoch:59, Accuracy: 0.000000, Loss: 0.250509\n",
      "epoch:60, Accuracy: 0.000000, Loss: 0.250469\n",
      "epoch:61, Accuracy: 0.000000, Loss: 0.250433\n",
      "epoch:62, Accuracy: 0.000000, Loss: 0.250401\n",
      "epoch:63, Accuracy: 0.000000, Loss: 0.250371\n",
      "epoch:64, Accuracy: 0.000000, Loss: 0.250344\n",
      "epoch:65, Accuracy: 0.000000, Loss: 0.250319\n",
      "epoch:66, Accuracy: 0.000000, Loss: 0.250296\n",
      "epoch:67, Accuracy: 0.000000, Loss: 0.250276\n",
      "epoch:68, Accuracy: 0.000000, Loss: 0.250257\n",
      "epoch:69, Accuracy: 0.000000, Loss: 0.250240\n",
      "epoch:70, Accuracy: 0.000000, Loss: 0.250224\n",
      "epoch:71, Accuracy: 0.000000, Loss: 0.250210\n",
      "epoch:72, Accuracy: 0.000000, Loss: 0.250197\n",
      "epoch:73, Accuracy: 0.000000, Loss: 0.250186\n",
      "epoch:74, Accuracy: 0.000000, Loss: 0.250175\n",
      "epoch:75, Accuracy: 0.000000, Loss: 0.250165\n",
      "epoch:76, Accuracy: 0.000000, Loss: 0.250156\n",
      "epoch:77, Accuracy: 0.000000, Loss: 0.250148\n",
      "epoch:78, Accuracy: 0.000000, Loss: 0.250141\n",
      "epoch:79, Accuracy: 0.000000, Loss: 0.250134\n",
      "epoch:80, Accuracy: 0.000000, Loss: 0.250128\n",
      "epoch:81, Accuracy: 0.000000, Loss: 0.250123\n",
      "epoch:82, Accuracy: 0.000000, Loss: 0.250118\n",
      "epoch:83, Accuracy: 0.000000, Loss: 0.250113\n",
      "epoch:84, Accuracy: 0.000000, Loss: 0.250109\n",
      "epoch:85, Accuracy: 0.000000, Loss: 0.250105\n",
      "epoch:86, Accuracy: 0.000000, Loss: 0.250101\n",
      "epoch:87, Accuracy: 0.000000, Loss: 0.250098\n",
      "epoch:88, Accuracy: 0.000000, Loss: 0.250095\n",
      "epoch:89, Accuracy: 0.000000, Loss: 0.250093\n",
      "epoch:90, Accuracy: 0.000000, Loss: 0.250090\n",
      "epoch:91, Accuracy: 0.000000, Loss: 0.250088\n",
      "epoch:92, Accuracy: 0.000000, Loss: 0.250086\n",
      "epoch:93, Accuracy: 0.000000, Loss: 0.250084\n",
      "epoch:94, Accuracy: 0.000000, Loss: 0.250083\n",
      "epoch:95, Accuracy: 0.000000, Loss: 0.250081\n",
      "epoch:96, Accuracy: 0.000000, Loss: 0.250080\n",
      "epoch:97, Accuracy: 0.000000, Loss: 0.250078\n",
      "epoch:98, Accuracy: 0.000000, Loss: 0.250077\n",
      "epoch:99, Accuracy: 0.000000, Loss: 0.250076\n"
     ]
    }
   ],
   "source": [
    "model = Learner(\n",
    "    Sequential(\n",
    "        Linear(2, 28), \n",
    "        Sigmoid(), \n",
    "        Linear(28, 56),\n",
    "        Sigmoid(),\n",
    "        Linear(56, 128),\n",
    "        Sigmoid(),\n",
    "        Linear(128, 1),\n",
    "        Sigmoid()\n",
    "    ), \n",
    "    mse_loss, \n",
    "    SGDOptimizer(lr=learning_rate)\n",
    ").fit(X, Y, epochs=epochs, batch_sizes=batch_size)"
   ]
  },
  {
   "cell_type": "code",
   "execution_count": 14,
   "id": "68286484",
   "metadata": {},
   "outputs": [
    {
     "data": {
      "image/png": "[encoded data removed]",
      "text/plain": [
       "<Figure size 432x288 with 1 Axes>"
      ]
     },
     "metadata": {
      "needs_background": "light"
     },
     "output_type": "display_data"
    }
   ],
   "source": [
    "plt.plot(model['loss'])\n",
    "plt.title('loss history')\n",
    "plt.ylabel('Loss value')\n",
    "plt.xlabel('epoch')\n",
    "plt.show()"
   ]
  },
  {
   "cell_type": "code",
   "execution_count": 15,
   "id": "54cc4fdf",
   "metadata": {},
   "outputs": [
    {
     "name": "stdout",
     "output_type": "stream",
     "text": [
      "[[0.64553524]\n",
      " [0.64716752]\n",
      " [0.64576187]\n",
      " [0.64733815]]\n"
     ]
    }
   ],
   "source": [
    "pre_line = Learner(\n",
    "    Sequential(\n",
    "        Linear(2, 28), \n",
    "        Sigmoid(), \n",
    "        Linear(28, 56),\n",
    "        Sigmoid(),\n",
    "        Linear(56, 128),\n",
    "        Sigmoid(),\n",
    "        Linear(128, 1),\n",
    "        Sigmoid()\n",
    "    ), \n",
    "    mse_loss, \n",
    "    SGDOptimizer(lr=learning_rate)\n",
    ").predict(X, Y)\n",
    "print(pre_line)"
   ]
  },
  {
   "cell_type": "code",
   "execution_count": 16,
   "id": "bca96a55",
   "metadata": {},
   "outputs": [
    {
     "data": {
      "text/plain": [
       "1.0"
      ]
     },
     "execution_count": 16,
     "metadata": {},
     "output_type": "execute_result"
    }
   ],
   "source": [
    "Learner(\n",
    "    Sequential(\n",
    "        Linear(2, 28), \n",
    "        Sigmoid(), \n",
    "        Linear(28, 56),\n",
    "        Sigmoid(),\n",
    "        Linear(56, 128),\n",
    "        Sigmoid(),\n",
    "        Linear(128, 1),\n",
    "        Sigmoid()\n",
    "    ), \n",
    "    mse_loss, \n",
    "    SGDOptimizer(lr=learning_rate)\n",
    ").accuracy(X, Y)"
   ]
  },
  {
   "cell_type": "code",
   "execution_count": null,
   "id": "c2e18108",
   "metadata": {},
   "outputs": [],
   "source": []
  },
  {
   "cell_type": "code",
   "execution_count": null,
   "id": "ccd95390",
   "metadata": {},
   "outputs": [],
   "source": []
  },
  {
   "cell_type": "code",
   "execution_count": null,
   "id": "a5a901b1",
   "metadata": {},
   "outputs": [],
   "source": []
  },
  {
   "cell_type": "code",
   "execution_count": null,
   "id": "424ac447",
   "metadata": {},
   "outputs": [],
   "source": []
  },
  {
   "cell_type": "code",
   "execution_count": null,
   "id": "5e046f28",
   "metadata": {},
   "outputs": [],
   "source": []
  }
 ],
 "metadata": {
  "kernelspec": {
   "display_name": "Python 3 (ipykernel)",
   "language": "python",
   "name": "python3"
  },
  "language_info": {
   "codemirror_mode": {
    "name": "ipython",
    "version": 3
   },
   "file_extension": ".py",
   "mimetype": "text/x-python",
   "name": "python",
   "nbconvert_exporter": "python",
   "pygments_lexer": "ipython3",
   "version": "3.8.11"
  }
 },
 "nbformat": 4,
 "nbformat_minor": 5
}
