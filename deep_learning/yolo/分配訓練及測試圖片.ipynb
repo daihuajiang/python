{
 "cells": [
  {
   "cell_type": "code",
   "execution_count": 3,
   "metadata": {},
   "outputs": [],
   "source": [
    "#從xml產生\n",
    "import os\n",
    "import random\n",
    "\n",
    "trainval_percent = 0.8\n",
    "train_percent = 0.8\n",
    "xmlfilepath = 'D:/test/color2/labels'\n",
    "#txtsavepath = 'D:/test/color2/yolos'\n",
    "total_xml = os.listdir(xmlfilepath)\n",
    "\n",
    "num=len(total_xml)\n",
    "list=range(num)\n",
    "tv=int(num*trainval_percent)\n",
    "tr=int(tv*train_percent)\n",
    "trainval= random.sample(list,tv)\n",
    "#train=random.sample(trainval,tr)\n",
    "\n",
    "#ftrainval = open('D:/test/blockcolor/ImageSets/Main/trainval.txt', 'a')\n",
    "ftest = open('D:/test/color2/cfg/test.txt', 'w')\n",
    "ftrain = open('D:/test/color2/cfg/train.txt', 'w')\n",
    "#fval = open('D:/test/blockcolor/ImageSets/Main/val.txt', 'a')\n",
    "\n",
    "\"\"\"\n",
    "for i  in list:\n",
    "    name='D:/test/blockcolor/image/yellow/'+total_xml[i][:-4]+'\\n'\n",
    "    if i in trainval:\n",
    "        ftrainval.write(name)\n",
    "        if i in train:\n",
    "            ftrain.write(name)\n",
    "        else:\n",
    "            fval.write(name)\n",
    "    else:\n",
    "        ftest.write(name)\n",
    "\"\"\"\n",
    "\n",
    "for i  in list:\n",
    "    name='/content/color2/yolos/'+total_xml[i][:-4]+'.jpg\\n'\n",
    "    if i in trainval:\n",
    "        ftrain.write(name)\n",
    "    else:\n",
    "        ftest.write(name)\n",
    "\n",
    "\n",
    "#ftrainval.close()\n",
    "ftrain.close()\n",
    "#fval.close()\n",
    "ftest .close()"
   ]
  },
  {
   "cell_type": "code",
   "execution_count": null,
   "metadata": {},
   "outputs": [],
   "source": []
  }
 ],
 "metadata": {
  "kernelspec": {
   "display_name": "Python 3",
   "language": "python",
   "name": "python3"
  },
  "language_info": {
   "codemirror_mode": {
    "name": "ipython",
    "version": 3
   },
   "file_extension": ".py",
   "mimetype": "text/x-python",
   "name": "python",
   "nbconvert_exporter": "python",
   "pygments_lexer": "ipython3",
   "version": "3.7.3"
  }
 },
 "nbformat": 4,
 "nbformat_minor": 2
}
