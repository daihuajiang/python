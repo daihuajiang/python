{
 "cells": [
  {
   "cell_type": "code",
   "execution_count": 3,
   "metadata": {},
   "outputs": [],
   "source": [
    "import xml.etree.ElementTree as ET\n",
    "import pickle\n",
    "import os\n",
    "from os import listdir, getcwd\n",
    "from os.path import join\n",
    "\n",
    "#classes = [\"aeroplane\", \"bicycle\", \"bird\", \"boat\", \"bottle\"]\n",
    "classes = [\"blue\", \"green\", \"red\", \"yellow\"]#（改！）自己要測的目標類別\n",
    "\n",
    "\n",
    "def convert(size, box):\n",
    "    dw = 1./(size[0])\n",
    "    dh = 1./(size[1])\n",
    "    x = (box[0] + box[1])/2.0 - 1\n",
    "    y = (box[2] + box[3])/2.0 - 1\n",
    "    w = box[1] - box[0]\n",
    "    h = box[3] - box[2]\n",
    "    x = x*dw\n",
    "    w = w*dw\n",
    "    y = y*dh\n",
    "    h = h*dh\n",
    "    return (x,y,w,h)\n",
    "\n",
    "def convert_annotation(image_id):\n",
    "    in_file = open('D:/test/color2/labels/%s.xml'%(image_id))#（改！）自己的圖像標籤xml文件的路徑\n",
    "    out_file = open('D:/test/dataset2/dataset2/labels_txt/%s.txt'%(image_id), 'w')#（改！）自己的圖像標籤txt文件要保存的路徑\n",
    "    tree=ET.parse(in_file)#直接解析xml文件\n",
    "    root = tree.getroot()#獲取xml文件的根節點\n",
    "    size = root.find('size')#獲取指定節點“圖像尺寸”\n",
    "    w = int(size.find('width').text)#獲取圖像寬\n",
    "    h = int(size.find('height').text)#圖像高\n",
    "\n",
    "    for obj in root.iter('object'):\n",
    "        difficult = obj.find('difficult').text#xml裏的difficult參數\n",
    "        cls = obj.find('name').text#要檢測的類別名稱name\n",
    "        if cls not in classes or int(difficult)==1:\n",
    "            continue\n",
    "        cls_id = classes.index(cls)\n",
    "        xmlbox = obj.find('bndbox')\n",
    "        b = (float(xmlbox.find('xmin').text), float(xmlbox.find('xmax').text), float(xmlbox.find('ymin').text), float(xmlbox.find('ymax').text))\n",
    "        bb = convert((w,h), b)\n",
    "        out_file.write(str(cls_id) + \" \" + \" \".join([str(a) for a in bb]) + '\\n')\n",
    "\n",
    "\n",
    "#用VOC數據集的話，是將VOCdevkit/VOC2007/ImageSets/Main/文件夾下的所有txt都循環讀入了\n",
    "#這裏我只讀入所有待訓練圖像的路徑list.txt\n",
    "image_paths = open('D:/test/dataset2/dataset2/total0.txt').read().strip().split()#（改！）\n",
    "#list_file = open('train.txt', 'w')\n",
    "for image_path in image_paths:\n",
    "    #list_file.write('/root/darknet-master/data/obj/%s.jpg\\n'%(image_id))\n",
    "    image_id=os.path.split(image_path)[1]#image_id內容類似'0001.jpg'\n",
    "    image_id2=os.path.splitext(image_id)[0]#image_id2內容類似'0001'\n",
    "    convert_annotation(image_id2)"
   ]
  },
  {
   "cell_type": "code",
   "execution_count": null,
   "metadata": {},
   "outputs": [],
   "source": []
  }
 ],
 "metadata": {
  "kernelspec": {
   "display_name": "Python 3",
   "language": "python",
   "name": "python3"
  },
  "language_info": {
   "codemirror_mode": {
    "name": "ipython",
    "version": 3
   },
   "file_extension": ".py",
   "mimetype": "text/x-python",
   "name": "python",
   "nbconvert_exporter": "python",
   "pygments_lexer": "ipython3",
   "version": "3.7.3"
  }
 },
 "nbformat": 4,
 "nbformat_minor": 2
}
