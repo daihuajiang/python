{
 "cells": [
  {
   "cell_type": "code",
   "execution_count": 36,
   "metadata": {
    "scrolled": false
   },
   "outputs": [
    {
     "name": "stdout",
     "output_type": "stream",
     "text": [
      "Reading annotation for 1/213\n",
      "Reading annotation for 101/213\n",
      "Reading annotation for 201/213\n",
      "Saving cached annotations to .\\annots.pkl\n",
      "rec [0.01492537 0.02985075 0.04477612 0.05970149 0.07462687 0.08955224\n",
      " 0.10447761 0.11940299 0.13432836 0.14925373 0.1641791  0.17910448\n",
      " 0.19402985 0.20895522 0.2238806  0.23880597 0.25373134 0.26865672\n",
      " 0.28358209 0.29850746 0.31343284 0.32835821 0.34328358 0.35820896\n",
      " 0.37313433 0.3880597  0.40298507 0.41791045 0.43283582 0.44776119\n",
      " 0.46268657 0.47761194 0.49253731 0.50746269 0.52238806 0.53731343\n",
      " 0.55223881 0.56716418 0.58208955 0.59701493 0.6119403  0.62686567\n",
      " 0.64179104 0.65671642 0.67164179 0.68656716 0.70149254 0.71641791\n",
      " 0.73134328 0.74626866 0.76119403 0.7761194  0.79104478 0.80597015\n",
      " 0.82089552 0.8358209  0.85074627 0.86567164 0.88059701 0.89552239\n",
      " 0.91044776 0.92537313 0.94029851 0.95522388 0.97014925 0.98507463\n",
      " 1.         1.         1.         1.         1.         1.\n",
      " 1.         1.         1.         1.         1.         1.\n",
      " 1.        ]\n",
      "prec [1.         1.         1.         1.         1.         1.\n",
      " 1.         1.         1.         1.         1.         1.\n",
      " 1.         1.         1.         1.         1.         1.\n",
      " 1.         1.         1.         1.         1.         1.\n",
      " 1.         1.         1.         1.         1.         1.\n",
      " 1.         1.         1.         1.         1.         1.\n",
      " 1.         1.         1.         1.         1.         1.\n",
      " 1.         1.         1.         1.         1.         1.\n",
      " 1.         1.         1.         1.         1.         1.\n",
      " 1.         1.         1.         1.         1.         1.\n",
      " 1.         1.         1.         1.         1.         1.\n",
      " 1.         0.98529412 0.97101449 0.95714286 0.94366197 0.93055556\n",
      " 0.91780822 0.90540541 0.89333333 0.88157895 0.87012987 0.85897436\n",
      " 0.84810127]\n",
      "ap 1.0\n"
     ]
    },
    {
     "data": {
      "text/plain": [
       "<function BufferedWriter.close>"
      ]
     },
     "execution_count": 36,
     "metadata": {},
     "output_type": "execute_result"
    }
   ],
   "source": [
    "from voc_eval import voc_eval\n",
    "\n",
    "rec,prec,ap=voc_eval('D:/test/color/{}.txt', 'D:/test/color/labels/{}.xml', 'D:/test/color/cfg/testy.txt', 'yellow', '.')\n",
    " \n",
    "print('rec',rec)\n",
    "print('prec',prec)\n",
    "print('ap',ap)\n",
    "\n",
    "\"\"\"\n",
    "fr = open('D:/test/color/annots_yellow.txt','ab')\n",
    "fr.write(rec)\n",
    "fr.write(prec)\n",
    "fr.write(ap)\n",
    "fr.close\n",
    "\"\"\""
   ]
  },
  {
   "cell_type": "code",
   "execution_count": 18,
   "metadata": {},
   "outputs": [
    {
     "ename": "IndexError",
     "evalue": "only integers, slices (`:`), ellipsis (`...`), numpy.newaxis (`None`) and integer or boolean arrays are valid indices",
     "output_type": "error",
     "traceback": [
      "\u001b[1;31m---------------------------------------------------------------------------\u001b[0m",
      "\u001b[1;31mIndexError\u001b[0m                                Traceback (most recent call last)",
      "\u001b[1;32m<ipython-input-18-4c837fed2117>\u001b[0m in \u001b[0;36m<module>\u001b[1;34m\u001b[0m\n\u001b[0;32m      6\u001b[0m \u001b[0mfr\u001b[0m\u001b[1;33m.\u001b[0m\u001b[0mclose\u001b[0m\u001b[1;33m(\u001b[0m\u001b[1;33m)\u001b[0m\u001b[1;33m\u001b[0m\u001b[1;33m\u001b[0m\u001b[0m\n\u001b[0;32m      7\u001b[0m \u001b[1;33m\u001b[0m\u001b[0m\n\u001b[1;32m----> 8\u001b[1;33m \u001b[0mx\u001b[0m\u001b[1;33m=\u001b[0m\u001b[0minf\u001b[0m\u001b[1;33m[\u001b[0m\u001b[1;34m'rec'\u001b[0m\u001b[1;33m]\u001b[0m\u001b[1;33m\u001b[0m\u001b[1;33m\u001b[0m\u001b[0m\n\u001b[0m\u001b[0;32m      9\u001b[0m \u001b[0my\u001b[0m\u001b[1;33m=\u001b[0m\u001b[0minf\u001b[0m\u001b[1;33m[\u001b[0m\u001b[1;34m'prec'\u001b[0m\u001b[1;33m]\u001b[0m\u001b[1;33m\u001b[0m\u001b[1;33m\u001b[0m\u001b[0m\n\u001b[0;32m     10\u001b[0m \u001b[0mplt\u001b[0m\u001b[1;33m.\u001b[0m\u001b[0mfigure\u001b[0m\u001b[1;33m(\u001b[0m\u001b[1;33m)\u001b[0m\u001b[1;33m\u001b[0m\u001b[1;33m\u001b[0m\u001b[0m\n",
      "\u001b[1;31mIndexError\u001b[0m: only integers, slices (`:`), ellipsis (`...`), numpy.newaxis (`None`) and integer or boolean arrays are valid indices"
     ]
    }
   ],
   "source": [
    "\"\"\"\n",
    "#faster-RCNN方法執行reval_voc_py3.py(需要CSDN點數才可下載)生成pkl檔案\n",
    "import pickle as cPickle\n",
    "import matplotlib.pyplot as plt\n",
    "\n",
    "fr = open('D:/test/color/annots_blue.pkl','rb')#这里open中第一个参数需要修改成自己生产的pkl文件\n",
    "inf = cPickle.load(fr)\n",
    "fr.close()\n",
    "\n",
    "x=inf['rec']\n",
    "y=inf['prec']\n",
    "plt.figure()\n",
    "plt.xlabel('recall')\n",
    "plt.ylabel('precision')\n",
    "plt.title('PR cruve')\n",
    "plt.plot(x,y)\n",
    "plt.show()\n",
    "\n",
    "print('AP：',inf['ap'])\n",
    "\"\"\""
   ]
  },
  {
   "cell_type": "code",
   "execution_count": 14,
   "metadata": {},
   "outputs": [
    {
     "name": "stdout",
     "output_type": "stream",
     "text": [
      "Reading annotation for 1/213\n",
      "Reading annotation for 101/213\n",
      "Reading annotation for 201/213\n",
      "Saving cached annotations to .\\annots.pkl\n",
      "cls: blue|| Recall: 0.4642857142857143 || Precison: 0.3939393939393939|| AP: 0.32540167459105596\n",
      "____________________\n",
      "cls: green|| Recall: 0.9130434782608695 || Precison: 0.6774193548387096|| AP: 0.8734539065252651\n",
      "____________________\n",
      "cls: red|| Recall: 0.6818181818181818 || Precison: 0.6521739130434783|| AP: 0.5059548978153627\n",
      "____________________\n",
      "cls: yellow|| Recall: 0.835820895522388 || Precison: 0.7777777777777778|| AP: 0.7593310558718754\n",
      "____________________\n"
     ]
    },
    {
     "data": {
      "image/png": "[encoded data removed]",
      "text/plain": [
       "<Figure size 432x288 with 1 Axes>"
      ]
     },
     "metadata": {
      "needs_background": "light"
     },
     "output_type": "display_data"
    },
    {
     "name": "stdout",
     "output_type": "stream",
     "text": [
      "mAP is : 0.6160353837008898\n"
     ]
    }
   ],
   "source": [
    "#繪製pr圖\n",
    "from voc_eval import voc_eval\n",
    "import numpy as np\n",
    "import matplotlib.pyplot as plt\n",
    "import matplotlib.colors as colors\n",
    "import os\n",
    "os.remove(\"C:/Users/岱樺/annots.pkl\")#刪除前一次執行在當前目錄產生的annots.pkl\n",
    "\n",
    "AP_list = []#用於儲存每一類所得ap\n",
    "clist = {'blue':0, 'green':1, 'red':2, 'yellow':3}#類別\n",
    "cl = ['b', 'g', 'r', 'y']#pr圖線條顏色\n",
    "\n",
    "#thresh: 設定iou比例大於多少為辨識成功\n",
    "thresh = 0.85\n",
    "\n",
    "#計算每一類Recall, Precison, AP並繪製pr圖\n",
    "for cls, index in clist.items():\n",
    "    \"\"\"\n",
    "    voc_eval()參數解釋：\n",
    "    第1項：存放檢測結果文件的文件夾的路徑（每個類別一個單獨的文件，文件名可在valid命令時指定）+ { }.txt ；\n",
    "    第2項：存放xml標籤文件的文件夾的路徑 + { }.xml ；\n",
    "    第3項：測試集圖片名稱列表.txt文件的路徑 ；\n",
    "    第4項：某類別對應的結果文件的名字（每次計算不同類別的AP，只需要更改此參數後重新運行腳本即可）；\n",
    "    第5項：若無pkl文件的路徑，生成路徑\n",
    "    第6項：iou比例大於多少為辨識成功\n",
    "    \"\"\"\n",
    "    recall, precision, AP = voc_eval('D:/test/color/{}.txt', 'D:/test/color/labels/{}.xml', 'D:/test/color/cfg/testy.txt', cls, '.', thresh)\n",
    "    AP_list += [AP]\n",
    "    print(\"cls: {}|| Recall: {} || Precison: {}|| AP: {}\".format(cls, recall[-1], precision[-1], AP))\n",
    "    plt.plot(recall, precision, label=cls, color=cl[index])\n",
    "    plt.legend(loc='upper right')\n",
    "    print(10*\"__\")\n",
    "plt.grid()\n",
    "plt.title(\"precision-recall curve\")\n",
    "plt.xlabel('recall')\n",
    "plt.ylabel('precision')\n",
    "plt.savefig('D:/test/pr4000_thresh'+str(thresh)+'.jpg')#儲存圖檔\n",
    "plt.show()\n",
    "print(\"mAP is : {}\".format(np.mean(AP_list)))"
   ]
  },
  {
   "cell_type": "code",
   "execution_count": null,
   "metadata": {},
   "outputs": [],
   "source": []
  }
 ],
 "metadata": {
  "kernelspec": {
   "display_name": "Python 3",
   "language": "python",
   "name": "python3"
  },
  "language_info": {
   "codemirror_mode": {
    "name": "ipython",
    "version": 3
   },
   "file_extension": ".py",
   "mimetype": "text/x-python",
   "name": "python",
   "nbconvert_exporter": "python",
   "pygments_lexer": "ipython3",
   "version": "3.7.3"
  }
 },
 "nbformat": 4,
 "nbformat_minor": 2
}
