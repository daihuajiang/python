{
 "cells": [
  {
   "cell_type": "code",
   "execution_count": 1,
   "metadata": {},
   "outputs": [],
   "source": [
    "import numpy as np\n",
    "import matplotlib.pyplot as plt"
   ]
  },
  {
   "cell_type": "code",
   "execution_count": 2,
   "metadata": {},
   "outputs": [],
   "source": [
    "#資料為xor真值表\n",
    "X = np.array([[-1, -1], [-1, 1], [1, -1], [1, 1]])\n",
    "X_label = np.array([[0], [1], [1], [0]])\n",
    "Y = np.array([[0.3], [0.7], [0.7], [0.3]])"
   ]
  },
  {
   "cell_type": "code",
   "execution_count": 3,
   "metadata": {},
   "outputs": [],
   "source": [
    "t_ = 15 #訓練回數\n",
    "d_ = 4 #樣本數\n",
    "n = 2 #神經元數量\n",
    "m = 2 #輸入的資料維度  \n",
    "p = 1 #輸出值維度"
   ]
  },
  {
   "cell_type": "code",
   "execution_count": 4,
   "metadata": {},
   "outputs": [],
   "source": [
    "#定義參數\n",
    "weight_v = [[1.0, -1.0], [-1.0, 1.0]]\n",
    "weight_w = [[1.0], [1.0]]\n",
    "\n",
    "theta_hj = np.ones((n, 1))\n",
    "net_hj = np.zeros_like(theta_hj)\n",
    "Hj = np.zeros_like(theta_hj) \n",
    "theta_k = np.ones((p, 1))\n",
    "net_k =  np.zeros((p, 1))\n",
    "Yk = np.array([0, 0, 0, 0], dtype = 'float64')\n",
    "delta_k = np.zeros_like(net_k)\n",
    "delta_hj = np.zeros_like(Hj)\n",
    "eta = 10"
   ]
  },
  {
   "cell_type": "code",
   "execution_count": 5,
   "metadata": {},
   "outputs": [
    {
     "name": "stdout",
     "output_type": "stream",
     "text": [
      "Yk =\n",
      "[0.3864837  0.25242223 0.31683894 0.43099858]\n",
      "epoch: 0\n",
      "Yk =\n",
      "[0.46894648 0.40204313 0.51162616 0.72320697]\n",
      "epoch: 1\n",
      "Yk =\n",
      "[0.73636323 0.5613746  0.45206649 0.49568625]\n",
      "epoch: 2\n",
      "Yk =\n",
      "[0.41790844 0.2824582  0.33470508 0.59188642]\n",
      "epoch: 3\n",
      "Yk =\n",
      "[0.67380544 0.56402959 0.53095257 0.60142455]\n",
      "epoch: 4\n",
      "Yk =\n",
      "[0.49407171 0.28010438 0.26552029 0.43937987]\n",
      "epoch: 5\n",
      "Yk =\n",
      "[0.54656095 0.501548   0.57974442 0.71712566]\n",
      "epoch: 6\n",
      "Yk =\n",
      "[0.66654639 0.41102474 0.32904526 0.43873229]\n",
      "epoch: 7\n",
      "Yk =\n",
      "[0.46960405 0.39661191 0.50214249 0.71735457]\n",
      "epoch: 8\n",
      "Yk =\n",
      "[0.73262239 0.55900126 0.45359379 0.50031954]\n",
      "epoch: 9\n",
      "Yk =\n",
      "[0.42260669 0.28401858 0.33375713 0.58819846]\n",
      "epoch: 10\n",
      "Yk =\n",
      "[0.66956299 0.5592807  0.52924921 0.60382634]\n",
      "epoch: 11\n",
      "Yk =\n",
      "[0.49973094 0.28436458 0.26915237 0.44338796]\n",
      "epoch: 12\n",
      "Yk =\n",
      "[0.54740871 0.49871869 0.57511299 0.71418212]\n",
      "epoch: 13\n",
      "Yk =\n",
      "[0.66449035 0.41056037 0.330434   0.44197728]\n",
      "epoch: 14\n"
     ]
    }
   ],
   "source": [
    "for t in range(t_): #T iterations\n",
    "    for d in range(d_): #D input samples\n",
    "        xi = X[d]\n",
    "        Tk = Y[d]\n",
    "        #forward\n",
    "        #compute hidden layer\n",
    "        for j in range(n):\n",
    "            #net_hj <- -theta_hj\n",
    "            net_hj[j] = net_hj[j] - theta_hj[j]\n",
    "            for i in range(m):\n",
    "                #net_hj = net_hj + vij * xi\n",
    "                net_hj[j] += weight_v[i][j] * xi[i]\n",
    "            #Hj = 1/(1 + exp^-net_hj)\n",
    "            Hj[j] = 1.0 / (1.0 + np.exp(-net_hj[j]))\n",
    "            \n",
    "        #compute output layer\n",
    "        for k in range(p):\n",
    "            #neth_k <- -theta_hk\n",
    "            net_k[k] = net_k[k] - theta_k[k]\n",
    "            for j in range(n):\n",
    "                #neth_k = neth_k + wjk * Hj\n",
    "                net_k[k] += weight_w[j][k] * Hj[j]\n",
    "            #Yk = 1/(1 + exp^-net_k)\n",
    "            Yk[d] = 1.0 / (1.0 + np.exp(-net_k[k]))\n",
    "            \n",
    "        #backward\n",
    "        #compute delta for outputlayer\n",
    "        for k in range(p):\n",
    "            #delta_k = Yk * (1 - Yk) * (Tk - Yk)\n",
    "            delta_k[k] = Yk[d] * (1.0 - Yk[d]) * (Tk - Yk[d]) \n",
    "        #compute delta for hidden layer\n",
    "        for j in range(n):\n",
    "            #delta_hj = 0\n",
    "            delta_hj[j] = 0\n",
    "            for k in range(p):\n",
    "                #delta_hj = delta_hj + wjk * delta_k\n",
    "                delta_hj[j] += (weight_w[j][k] * delta_k[k]) - (eta * delta_k[k])\n",
    "            #delta_hj = Hj * (1 - Hj) * delta_hj\n",
    "            delta_hj[j] = Hj[j] * (1.0 - Hj[j]) * delta_hj[j]\n",
    "            \n",
    "        #adjust parameters\n",
    "        for k in range(p):\n",
    "            #theta_k = theta_k - eta * delta_k\n",
    "            theta_k[k] = theta_k[k] - (eta * delta_k[k])\n",
    "            for j in range(n):\n",
    "                #wjk = wjk + eta * delta_k * Hj\n",
    "                weight_w[j][k] = weight_w[j][k] + (eta * delta_k[k] * Hj[j])\n",
    "            for j in range(n):\n",
    "                #theta_hj = theta_hj - eta * delta_hj\n",
    "                theta_hj[j] = theta_hj[j] - (eta * delta_hj[j])\n",
    "                for i in range(m):\n",
    "                    #vij = vij + eta * delta_hj * xi\n",
    "                    weight_v[i][j] = weight_v[i][j] + (eta * delta_hj[j] * xi[i])\n",
    "\n",
    "    print('Yk =')\n",
    "    print(Yk)\n",
    "    print('epoch: %d'%(t))"
   ]
  },
  {
   "cell_type": "code",
   "execution_count": 6,
   "metadata": {},
   "outputs": [
    {
     "name": "stdout",
     "output_type": "stream",
     "text": [
      "[0.47247212 0.50317378 0.53385152 0.56427534]\n"
     ]
    }
   ],
   "source": [
    "#recall\n",
    "for d in range(d_): #D input samples\n",
    "        xi = X[d]\n",
    "        Tk = Y[d]\n",
    "        #forward\n",
    "        #compute hidden layer\n",
    "        for j in range(n):\n",
    "            #net_hj <- -theta_hj\n",
    "            net_hj[j] = net_hj[j] - theta_hj[j]\n",
    "            weight_v_j = 0\n",
    "            for i in range(m):\n",
    "                #net_hj = net_hj + vij * xi\n",
    "                weight_v_j += weight_v[i][j] * xi[i]\n",
    "            net_hj[j] = net_hj[j] + weight_v_j\n",
    "            #Hj = 1/(1 + exp^-net_hj)\n",
    "            Hj[j] = 1/(1 + np.exp(-net_hj[j]))\n",
    "            \n",
    "        #compute output layer\n",
    "        for k in range(p):\n",
    "            #neth_k <- -theta_hk\n",
    "            net_k[k] = net_k[k] - theta_k[k]\n",
    "            for j in range(n):\n",
    "                #neth_k = neth_k + wjk * Hj\n",
    "                net_k[k] += weight_w[j][k] * Hj[j]\n",
    "            #Yk = 1/(1 + exp^-net_k)\n",
    "            Yk[d] = 1/(1.0 + np.exp(-net_k[k]))\n",
    "            \"\"\"\n",
    "            if Yk[d] >= 0.5:\n",
    "                Yk[d] = 1\n",
    "            else:\n",
    "                Yk[d] = 0\n",
    "            \"\"\"\n",
    "print(Yk)"
   ]
  },
  {
   "cell_type": "code",
   "execution_count": null,
   "metadata": {},
   "outputs": [],
   "source": []
  },
  {
   "cell_type": "code",
   "execution_count": null,
   "metadata": {},
   "outputs": [],
   "source": []
  },
  {
   "cell_type": "code",
   "execution_count": null,
   "metadata": {},
   "outputs": [],
   "source": []
  },
  {
   "cell_type": "code",
   "execution_count": null,
   "metadata": {},
   "outputs": [],
   "source": []
  },
  {
   "cell_type": "code",
   "execution_count": null,
   "metadata": {},
   "outputs": [],
   "source": []
  },
  {
   "cell_type": "code",
   "execution_count": null,
   "metadata": {},
   "outputs": [],
   "source": []
  },
  {
   "cell_type": "code",
   "execution_count": null,
   "metadata": {},
   "outputs": [],
   "source": []
  },
  {
   "cell_type": "code",
   "execution_count": null,
   "metadata": {},
   "outputs": [],
   "source": []
  }
 ],
 "metadata": {
  "kernelspec": {
   "display_name": "Python 3",
   "language": "python",
   "name": "python3"
  },
  "language_info": {
   "codemirror_mode": {
    "name": "ipython",
    "version": 3
   },
   "file_extension": ".py",
   "mimetype": "text/x-python",
   "name": "python",
   "nbconvert_exporter": "python",
   "pygments_lexer": "ipython3",
   "version": "3.8.8"
  }
 },
 "nbformat": 4,
 "nbformat_minor": 4
}
